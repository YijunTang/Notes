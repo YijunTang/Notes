{
 "cells": [
  {
   "cell_type": "markdown",
   "metadata": {},
   "source": [
    "\n",
    "# GBM调参完全指南\n",
    "***\n",
    "## 简介\n",
    "***\n",
    "如果你一直把 GBM 当做一个黑箱使用, 那么现在是时候打开黑箱一探究竟了.\n",
    "\n",
    "Boosting 算法在处理偏差-方差折衷时起着非常重要的作用. 不像 Bagging 算法仅仅控制模型中的高方差, Boosting 算法同时控制偏差和方差, 这样更有效. \n",
    "\n",
    "该文中, 我将揭晓使用 GBM 背后的原理. 更重要的是, 你该如何调参从而获得好的结果.\n",
    "\n",
    "## 目录\n",
    "***\n",
    "1. [Boosting算法如何工作?](#1)\n",
    "2. [理解GBM的参数](#2)\n",
    "3. [调参实例](#3)\n",
    "\n",
    "## 1. Boosting算法如何工作?\n",
    "***\n",
    "Boosting 算法是基于集成原理(principle of ensemble)的一种顺序生成子估计器的技术. 该算法联合一些弱学习器给出更好的预测结果. "
   ]
  },
  {
   "cell_type": "code",
   "execution_count": null,
   "metadata": {
    "collapsed": true
   },
   "outputs": [],
   "source": []
  }
 ],
 "metadata": {
  "kernelspec": {
   "display_name": "Python 3",
   "language": "python",
   "name": "python3"
  },
  "language_info": {
   "codemirror_mode": {
    "name": "ipython",
    "version": 3
   },
   "file_extension": ".py",
   "mimetype": "text/x-python",
   "name": "python",
   "nbconvert_exporter": "python",
   "pygments_lexer": "ipython3",
   "version": "3.6.3"
  }
 },
 "nbformat": 4,
 "nbformat_minor": 2
}
