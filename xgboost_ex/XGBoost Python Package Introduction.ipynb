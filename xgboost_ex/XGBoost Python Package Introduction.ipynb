{
 "cells": [
  {
   "cell_type": "markdown",
   "metadata": {},
   "source": [
    "\n",
    "# XGBoost python 软件包介绍\n",
    "***\n",
    "相关链接:\n",
    "* [python演示代码](https://github.com/tqchen/xgboost/tree/master/demo/guide-python \"Python walkthrough code collections\")\n",
    "* [python API](http://xgboost.readthedocs.io/en/latest/python/python_api.html \"Python API Reference\")\n",
    "\n",
    "## 1. 数据接口(Data Interface)\n",
    "***\n",
    "XGBoost python 模块能够导入的数据, 来源于:\n",
    "* libsvm txt format file\n",
    "* Numpy 2D array\n",
    "* xgboost binary buffer file\n",
    "\n",
    "数据存储在 `DMatrix` 对象中.\n",
    "* 加载一个 libsvm 文本文件或者 XGBoost 二进制文件到 `DMatrix`:"
   ]
  },
  {
   "cell_type": "code",
   "execution_count": null,
   "metadata": {
    "collapsed": true
   },
   "outputs": [],
   "source": [
    "import xgboost as xgb\n",
    "\n",
    "dtrain = xgb.DMatrix('train.svm.txt')\n",
    "dtest = xgb.DMatrix('test.svm.buffer')"
   ]
  },
  {
   "cell_type": "markdown",
   "metadata": {},
   "source": [
    "* 加载一个 numpy 数组到 `DMatrix`:"
   ]
  },
  {
   "cell_type": "code",
   "execution_count": null,
   "metadata": {
    "collapsed": true
   },
   "outputs": [],
   "source": [
    "import numpy as np\n",
    "\n",
    "data = np.random.rand(5, 10) # 5 entities, each contains 10 features\n",
    "label = np.random.randint(2, size=5) # binary target\n",
    "dtrain = xgb.DMatrix(data, label=label)"
   ]
  },
  {
   "cell_type": "markdown",
   "metadata": {},
   "source": [
    "* 加载一个 scipy.sparse 数组到 `DMatrix`:"
   ]
  },
  {
   "cell_type": "code",
   "execution_count": null,
   "metadata": {
    "collapsed": true
   },
   "outputs": [],
   "source": [
    "import scipy\n",
    "\n",
    "csr = scipy.sparse.csr_matrix((dat, (row, col)))\n",
    "dtrain = xgb.DMatrix(csr)"
   ]
  },
  {
   "cell_type": "markdown",
   "metadata": {},
   "source": [
    "* 保存 `DMatrix` 到 XGBoost 二进制文件会加快加载速度:"
   ]
  },
  {
   "cell_type": "code",
   "execution_count": null,
   "metadata": {
    "collapsed": true
   },
   "outputs": [],
   "source": [
    "dtrain = xgb.DMatrix('train.svm.txt')\n",
    "dtrain.save_binary('train.buffer')"
   ]
  },
  {
   "cell_type": "markdown",
   "metadata": {},
   "source": [
    "* 缺失值被 `DMatrix` 构造器中给定的默认值填充:"
   ]
  },
  {
   "cell_type": "code",
   "execution_count": null,
   "metadata": {
    "collapsed": true
   },
   "outputs": [],
   "source": [
    "dtrain = xgb.DMatrix(data, label=label, missing=-999.0)"
   ]
  },
  {
   "cell_type": "markdown",
   "metadata": {},
   "source": [
    "* 权重能够被设置:"
   ]
  },
  {
   "cell_type": "code",
   "execution_count": null,
   "metadata": {
    "collapsed": true
   },
   "outputs": [],
   "source": [
    "w = np.random.rand(5, 1)\n",
    "dtrain = xgb.DMatrix(data, label=label, missing=-999.0, weight=w)"
   ]
  },
  {
   "cell_type": "markdown",
   "metadata": {},
   "source": [
    "## 2. 设定参数(Setting Parameters)\n",
    "***\n",
    "XGBoost 能够使用键值对列表(list of pairs)或者字典去设置参数. 例如:\n",
    "* Booster parameters"
   ]
  },
  {
   "cell_type": "code",
   "execution_count": null,
   "metadata": {
    "collapsed": true
   },
   "outputs": [],
   "source": [
    "param = {'max_depth': 2, 'eta': 1, 'silent': 1, 'objective': 'binary:logistic'}\n",
    "param['nthread'] = 4\n",
    "param['eval_metric'] = 'auc'"
   ]
  },
  {
   "cell_type": "markdown",
   "metadata": {},
   "source": [
    "* 你也可以指定多个评价指标:"
   ]
  },
  {
   "cell_type": "code",
   "execution_count": null,
   "metadata": {
    "collapsed": true
   },
   "outputs": [],
   "source": [
    "param['eval_metric'] = ['auc', 'ams@0']\n",
    "\n",
    "# alternatively:\n",
    "# plst = param.items()\n",
    "# plst += [('eval_metric', 'ams@0')]"
   ]
  },
  {
   "cell_type": "markdown",
   "metadata": {},
   "source": [
    "* 指定验证集测试性能"
   ]
  },
  {
   "cell_type": "code",
   "execution_count": null,
   "metadata": {
    "collapsed": true
   },
   "outputs": [],
   "source": [
    "evallist = [(dtest, 'eval'), (dtrain, 'train')]"
   ]
  },
  {
   "cell_type": "markdown",
   "metadata": {},
   "source": [
    "## 3. 训练\n",
    "***\n",
    "训练一个模型需要一个参数列表和数据集."
   ]
  },
  {
   "cell_type": "code",
   "execution_count": null,
   "metadata": {
    "collapsed": true
   },
   "outputs": [],
   "source": [
    "num_round = 10\n",
    "bst = xgb.train(plst, dtrain, num_round, evallist)"
   ]
  },
  {
   "cell_type": "markdown",
   "metadata": {},
   "source": [
    "完成训练之后, 模型能够被保存下来."
   ]
  },
  {
   "cell_type": "code",
   "execution_count": null,
   "metadata": {
    "collapsed": true
   },
   "outputs": [],
   "source": [
    "bst.save_model('0001.model')"
   ]
  },
  {
   "cell_type": "markdown",
   "metadata": {},
   "source": [
    "模型和特征映射也能被保存到文本文件中."
   ]
  },
  {
   "cell_type": "code",
   "execution_count": null,
   "metadata": {
    "collapsed": true
   },
   "outputs": [],
   "source": [
    "# dump model\n",
    "bst.dump_model('dump.raw.txt')\n",
    "# dump model with feature map\n",
    "bst.dump_model('dump.raw.txt', 'featmap.txt')"
   ]
  },
  {
   "cell_type": "markdown",
   "metadata": {},
   "source": [
    "保存的模型能够通过如下方式加载:"
   ]
  },
  {
   "cell_type": "code",
   "execution_count": null,
   "metadata": {
    "collapsed": true
   },
   "outputs": [],
   "source": [
    "bst = xgb.Booster({'nthread': 4})  # init model\n",
    "bst.load_model('model.bin')  # load data"
   ]
  },
  {
   "cell_type": "markdown",
   "metadata": {},
   "source": [
    "## 4. 早停(Early Stopping)\n",
    "***\n",
    "如果你有一个验证集, 你能够使用早停去找到最优的提升轮数. 早停需要至少一个数据集在 `eval` 中. 如果这里有多个数据集, 将会使用最后一个.\n",
    "\n",
    "`train(..., evals=evals, early_stopping_rounds=10)`\n",
    "\n",
    "模型会训练到验证集评分不在增长时停止训练. \n",
    "\n",
    "如果早停发生了, 模型将会有三个额外的域: `bst.best_score`, `bst.best_iteration` 和 `bst.best_ntree_limit`. 注意: `train()`将会返回最后一次迭代后的模型, 而不是最优模型.\n",
    "\n",
    "早停对最小化指标(RMSE, log loss 等)和最大化指标(MAP, NDCG, AUC)均适用. 注意: 如果你指定了多个评价指标, `param['eval_metric']` 中的最后一个指标将会被用作早停指标.\n",
    "\n",
    "## 5. 预测\n",
    "***\n",
    "训练好或者加载保存的模型能够用来预测."
   ]
  },
  {
   "cell_type": "code",
   "execution_count": null,
   "metadata": {
    "collapsed": true
   },
   "outputs": [],
   "source": [
    "# 7 entities, each contains 10 features\n",
    "data = np.random.rand(7, 10)\n",
    "dtest = xgb.DMatrix(data)\n",
    "ypred = bst.predict(dtest)"
   ]
  },
  {
   "cell_type": "markdown",
   "metadata": {},
   "source": [
    "如果在训练时使能了早停, 你能通过 `bst.best_ntree_limit` 获得最优模型的预测:"
   ]
  },
  {
   "cell_type": "code",
   "execution_count": null,
   "metadata": {
    "collapsed": true
   },
   "outputs": [],
   "source": [
    "ypred = bst.predict(dtest, ntree_limit=bst.best_ntree_limit)"
   ]
  },
  {
   "cell_type": "markdown",
   "metadata": {},
   "source": [
    "## 6. 绘图(Plotting)\n",
    "***\n",
    "你能够使用绘图模块去绘制重要的和输出的树.\n",
    "\n",
    "使用 `plot_importance` 去绘制重要的树. 这个功能需要 `matplotlib` 的支持."
   ]
  },
  {
   "cell_type": "code",
   "execution_count": null,
   "metadata": {
    "collapsed": true
   },
   "outputs": [],
   "source": [
    "xgb.plot_importance(bst)"
   ]
  },
  {
   "cell_type": "markdown",
   "metadata": {},
   "source": [
    "通过 `matplotlib` 使用 `plot_tree` 绘制输出树, 指定树的数目. 该函数需要 `graphviz` 和 `matplotlib`的支持."
   ]
  },
  {
   "cell_type": "code",
   "execution_count": null,
   "metadata": {
    "collapsed": true
   },
   "outputs": [],
   "source": [
    "xgb.plot_tree(bst, num_trees=2)"
   ]
  },
  {
   "cell_type": "markdown",
   "metadata": {},
   "source": [
    "当你使用 `IPython` 时, 你可以使用 `to_graphviz` 函数, 该函数将目标树转换为一个 `graphviz` 实例. `graphviz` 实例在 `IPython` 中被自动绘制."
   ]
  },
  {
   "cell_type": "code",
   "execution_count": null,
   "metadata": {
    "collapsed": true
   },
   "outputs": [],
   "source": [
    "xgb.to_graphviz(bst, num_trees=2)"
   ]
  }
 ],
 "metadata": {
  "kernelspec": {
   "display_name": "Python 3",
   "language": "python",
   "name": "python3"
  },
  "language_info": {
   "codemirror_mode": {
    "name": "ipython",
    "version": 3
   },
   "file_extension": ".py",
   "mimetype": "text/x-python",
   "name": "python",
   "nbconvert_exporter": "python",
   "pygments_lexer": "ipython3",
   "version": "3.6.3"
  }
 },
 "nbformat": 4,
 "nbformat_minor": 2
}
