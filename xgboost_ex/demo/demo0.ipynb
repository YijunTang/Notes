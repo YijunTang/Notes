{
 "cells": [
  {
   "cell_type": "code",
   "execution_count": 1,
   "metadata": {
    "collapsed": true
   },
   "outputs": [],
   "source": [
    "import numpy as np\n",
    "import scipy.sparse\n",
    "import pickle\n",
    "import xgboost as xgb"
   ]
  },
  {
   "cell_type": "code",
   "execution_count": 2,
   "metadata": {
    "collapsed": true
   },
   "outputs": [],
   "source": [
    "dtrain = xgb.DMatrix('/home/tyj/xgboost/demo/data/agaricus.txt.train')\n",
    "dtest = xgb.DMatrix('/home/tyj/xgboost/demo/data/agaricus.txt.test')"
   ]
  },
  {
   "cell_type": "code",
   "execution_count": 3,
   "metadata": {},
   "outputs": [
    {
     "name": "stdout",
     "output_type": "stream",
     "text": [
      "[0]\teval-error:0.042831\ttrain-error:0.046522\n",
      "[1]\teval-error:0.021726\ttrain-error:0.022263\n"
     ]
    }
   ],
   "source": [
    "param = {'max_depth': 2, 'eta': 1, 'silent': 1, 'objective': 'binary:logistic'}\n",
    "\n",
    "# specify validations set to watch performance\n",
    "watchlist = [(dtest, 'eval'), (dtrain, 'train')]\n",
    "num_round = 2\n",
    "bst = xgb.train(param, dtrain, num_round, watchlist)"
   ]
  },
  {
   "cell_type": "code",
   "execution_count": 6,
   "metadata": {},
   "outputs": [
    {
     "name": "stdout",
     "output_type": "stream",
     "text": [
      "error=0.021726\n"
     ]
    }
   ],
   "source": [
    "# this is prediction\n",
    "preds = bst.predict(dtest)\n",
    "labels = dtest.get_label()\n",
    "print('error=%f' % (sum(1 for i in range(len(preds)) if int(preds[i] > 0.5) != labels[i]) / float(len(preds))))\n",
    "bst.save_model('./demo0/0001.model')\n",
    "# dump model\n",
    "bst.dump_model('./demo0/dump.raw.txt')\n",
    "# dump model with feature map\n",
    "bst.dump_model('./demo0/dump.nice.txt', './demo0/featmap.txt')"
   ]
  },
  {
   "cell_type": "code",
   "execution_count": 7,
   "metadata": {
    "collapsed": true
   },
   "outputs": [],
   "source": [
    "# save dmatrix into binary buffer\n",
    "dtest.save_binary('./demo0/dtest.buffer')\n",
    "# save model\n",
    "bst.save_model('./demo0/xgb.model')\n",
    "# load model and data in\n",
    "bst2 = xgb.Booster(model_file='./demo0/xgb.model')\n",
    "dtest2 = xgb.DMatrix('./demo0/dtest.buffer')\n",
    "preds2 = bst2.predict(dtest2)\n",
    "# assert they are the same\n",
    "assert np.sum(np.abs(preds2 - preds)) == 0"
   ]
  },
  {
   "cell_type": "code",
   "execution_count": 8,
   "metadata": {
    "collapsed": true
   },
   "outputs": [],
   "source": [
    "# alternatively, you can pickle the booster\n",
    "pks = pickle.dumps(bst2)\n",
    "# load model and data in\n",
    "bst3 = pickle.loads(pks)\n",
    "preds3 = bst3.predict(dtest2)\n",
    "# assert they are the same\n",
    "assert np.sum(np.abs(preds3 - preds)) == 0"
   ]
  },
  {
   "cell_type": "code",
   "execution_count": 9,
   "metadata": {},
   "outputs": [
    {
     "name": "stdout",
     "output_type": "stream",
     "text": [
      "start running example of build DMatrix from scipy.sparse CSR Matrix\n",
      "[0]\teval-error:0.042831\ttrain-error:0.046522\n",
      "[1]\teval-error:0.021726\ttrain-error:0.022263\n"
     ]
    }
   ],
   "source": [
    "###\n",
    "# build dmatrix from scipy.sparse\n",
    "print('start running example of build DMatrix from scipy.sparse CSR Matrix')\n",
    "labels = []\n",
    "row = []; col = []; dat = []\n",
    "i = 0\n",
    "for l in open('/home/tyj/xgboost/demo/data/agaricus.txt.train'):\n",
    "    arr = l.split()\n",
    "    labels.append(int(arr[0]))\n",
    "    for it in arr[1:]:\n",
    "        k,v = it.split(':')\n",
    "        row.append(i); col.append(int(k)); dat.append(float(v))\n",
    "    i += 1\n",
    "csr = scipy.sparse.csr_matrix((dat, (row, col)))\n",
    "dtrain = xgb.DMatrix(csr, label=labels)\n",
    "watchlist = [(dtest, 'eval'), (dtrain, 'train')]\n",
    "bst = xgb.train(param, dtrain, num_round, watchlist)"
   ]
  },
  {
   "cell_type": "code",
   "execution_count": 10,
   "metadata": {},
   "outputs": [
    {
     "name": "stdout",
     "output_type": "stream",
     "text": [
      "start running example of build DMatrix from scipy.sparse CSC Matrix\n",
      "[0]\teval-error:0.042831\ttrain-error:0.046522\n",
      "[1]\teval-error:0.021726\ttrain-error:0.022263\n"
     ]
    }
   ],
   "source": [
    "print('start running example of build DMatrix from scipy.sparse CSC Matrix')\n",
    "# we can also construct from csc matrix\n",
    "csc = scipy.sparse.csc_matrix((dat, (row, col)))\n",
    "dtrain = xgb.DMatrix(csc, label=labels)\n",
    "watchlist = [(dtest, 'eval'), (dtrain, 'train')]\n",
    "bst = xgb.train(param, dtrain, num_round, watchlist)"
   ]
  },
  {
   "cell_type": "code",
   "execution_count": null,
   "metadata": {
    "collapsed": true
   },
   "outputs": [],
   "source": []
  }
 ],
 "metadata": {
  "kernelspec": {
   "display_name": "Python 3",
   "language": "python",
   "name": "python3"
  },
  "language_info": {
   "codemirror_mode": {
    "name": "ipython",
    "version": 3
   },
   "file_extension": ".py",
   "mimetype": "text/x-python",
   "name": "python",
   "nbconvert_exporter": "python",
   "pygments_lexer": "ipython3",
   "version": "3.6.3"
  }
 },
 "nbformat": 4,
 "nbformat_minor": 2
}
